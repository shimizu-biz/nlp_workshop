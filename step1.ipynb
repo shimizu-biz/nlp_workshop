{
  "nbformat": 4,
  "nbformat_minor": 0,
  "metadata": {
    "colab": {
      "name": "step1.ipynb",
      "version": "0.3.2",
      "provenance": [],
      "include_colab_link": true
    },
    "kernelspec": {
      "display_name": "Python 3",
      "language": "python",
      "name": "python3"
    }
  },
  "cells": [
    {
      "cell_type": "markdown",
      "metadata": {
        "id": "view-in-github",
        "colab_type": "text"
      },
      "source": [
        "[![Open In Colab](https://colab.research.google.com/assets/colab-badge.svg)](https://colab.research.google.com/github/shimizu-biz/nlp_workshop/blob/master/step1.ipynb)"
      ]
    },
    {
      "metadata": {
        "id": "NdeBykTvwOn_",
        "colab_type": "text"
      },
      "cell_type": "markdown",
      "source": [
        "# step1"
      ]
    },
    {
      "metadata": {
        "id": "uCYMvo7SwOoB",
        "colab_type": "text"
      },
      "cell_type": "markdown",
      "source": [
        "Jupyter Notebookはプログラミングを行うだけでなく、Linuxコマンドも打つことができます。\n",
        "Linuxコマンドを実行するには'%%bash'と行頭に書きます。まず、lsコマンドが動くことを確認しましょう。\n",
        "\"In [x]:\"となっているセルをクリックし、Ctrl+EnterもしくはRunボタンを押すことでセルのコードを実行できます。"
      ]
    },
    {
      "metadata": {
        "id": "S4E2lr7FwOoC",
        "colab_type": "code",
        "colab": {
          "base_uri": "https://localhost:8080/",
          "height": 136
        },
        "outputId": "59d21c9d-f27b-41d6-90d1-a89be3c5b0cd"
      },
      "cell_type": "code",
      "source": [
        "%%bash\n",
        "ls"
      ],
      "execution_count": 18,
      "outputs": [
        {
          "output_type": "stream",
          "text": [
            "jv.bin\n",
            "jv.tsv\n",
            "pretrained_model.bin.zip\n",
            "sample_data\n",
            "word2vec.gensim.model\n",
            "word2vec.gensim.model.syn1neg.npy\n",
            "word2vec.gensim.model.wv.syn0.npy\n"
          ],
          "name": "stdout"
        }
      ]
    },
    {
      "metadata": {
        "id": "qnWsUI9FwOoF",
        "colab_type": "text"
      },
      "cell_type": "markdown",
      "source": [
        "Mecabをインストールしましょう"
      ]
    },
    {
      "metadata": {
        "id": "6Kr-YeHpwOoF",
        "colab_type": "code",
        "colab": {
          "base_uri": "https://localhost:8080/",
          "height": 323
        },
        "outputId": "954952c9-5536-4f00-be73-3e245f224a3f"
      },
      "cell_type": "code",
      "source": [
        "%%bash\n",
        "apt-get install mecab -y\n",
        "apt-get install libmecab-dev\n",
        "apt install mecab-ipadic-utf8 -y"
      ],
      "execution_count": 19,
      "outputs": [
        {
          "output_type": "stream",
          "text": [
            "Reading package lists...\n",
            "Building dependency tree...\n",
            "Reading state information...\n",
            "mecab is already the newest version (0.996-5).\n",
            "0 upgraded, 0 newly installed, 0 to remove and 3 not upgraded.\n",
            "Reading package lists...\n",
            "Building dependency tree...\n",
            "Reading state information...\n",
            "libmecab-dev is already the newest version (0.996-5).\n",
            "0 upgraded, 0 newly installed, 0 to remove and 3 not upgraded.\n",
            "Reading package lists...\n",
            "Building dependency tree...\n",
            "Reading state information...\n",
            "mecab-ipadic-utf8 is already the newest version (2.7.0-20070801+main-1).\n",
            "0 upgraded, 0 newly installed, 0 to remove and 3 not upgraded.\n"
          ],
          "name": "stdout"
        },
        {
          "output_type": "stream",
          "text": [
            "\n",
            "WARNING: apt does not have a stable CLI interface. Use with caution in scripts.\n",
            "\n"
          ],
          "name": "stderr"
        }
      ]
    },
    {
      "metadata": {
        "id": "xlV3vShXwOoI",
        "colab_type": "text"
      },
      "cell_type": "markdown",
      "source": [
        "Mecabをコマンドから操作してみましょう"
      ]
    },
    {
      "metadata": {
        "id": "gv08X7TFwOoJ",
        "colab_type": "code",
        "colab": {
          "base_uri": "https://localhost:8080/",
          "height": 136
        },
        "outputId": "9e5042da-adc7-4284-c804-722f421d3244"
      },
      "cell_type": "code",
      "source": [
        "%%bash\n",
        "mecab\n",
        "今日はいい天気ですね"
      ],
      "execution_count": 20,
      "outputs": [
        {
          "output_type": "stream",
          "text": [
            "今日\t名詞,副詞可能,*,*,*,*,今日,キョウ,キョー\n",
            "は\t助詞,係助詞,*,*,*,*,は,ハ,ワ\n",
            "いい\t形容詞,自立,*,*,形容詞・イイ,基本形,いい,イイ,イイ\n",
            "天気\t名詞,一般,*,*,*,*,天気,テンキ,テンキ\n",
            "です\t助動詞,*,*,*,特殊・デス,基本形,です,デス,デス\n",
            "ね\t助詞,終助詞,*,*,*,*,ね,ネ,ネ\n",
            "EOS\n"
          ],
          "name": "stdout"
        }
      ]
    },
    {
      "metadata": {
        "id": "t0-gCNEOwOoL",
        "colab_type": "text"
      },
      "cell_type": "markdown",
      "source": [
        "好きな文章の形態素解析をしてみましょう。（書き換えて何度でも実行できます）"
      ]
    },
    {
      "metadata": {
        "id": "zu8AcGqswOoM",
        "colab_type": "text"
      },
      "cell_type": "markdown",
      "source": [
        "PythonでMeCabを使うためのライブラリをインストールしましょう"
      ]
    },
    {
      "metadata": {
        "id": "heJ4h_OiwOoM",
        "colab_type": "code",
        "colab": {
          "base_uri": "https://localhost:8080/",
          "height": 119
        },
        "outputId": "a726991f-891f-4678-ae1c-26fce4d3f05f"
      },
      "cell_type": "code",
      "source": [
        "%%bash\n",
        "apt-get install python3-pip -y\n",
        "pip3 install mecab-python3"
      ],
      "execution_count": 21,
      "outputs": [
        {
          "output_type": "stream",
          "text": [
            "Reading package lists...\n",
            "Building dependency tree...\n",
            "Reading state information...\n",
            "python3-pip is already the newest version (9.0.1-2.3~ubuntu1).\n",
            "0 upgraded, 0 newly installed, 0 to remove and 3 not upgraded.\n",
            "Requirement already satisfied: mecab-python3 in /usr/local/lib/python3.6/dist-packages (0.7)\n"
          ],
          "name": "stdout"
        }
      ]
    },
    {
      "metadata": {
        "id": "VxnRSReOwOoQ",
        "colab_type": "text"
      },
      "cell_type": "markdown",
      "source": [
        "ここからはPythonを使っていきましょう\n",
        "\n",
        "Jupyter Notebookは対話的にPythonのプログラミングができます。\n",
        "「%%」などは特につける必要がありません"
      ]
    },
    {
      "metadata": {
        "id": "2cVhHXeZwOoR",
        "colab_type": "text"
      },
      "cell_type": "markdown",
      "source": [
        "MeCabのインポートをしましょう"
      ]
    },
    {
      "metadata": {
        "id": "hxyxb7XrwOoS",
        "colab_type": "code",
        "colab": {}
      },
      "cell_type": "code",
      "source": [
        "import MeCab"
      ],
      "execution_count": 0,
      "outputs": []
    },
    {
      "metadata": {
        "id": "5fBE4PwYwOoU",
        "colab_type": "text"
      },
      "cell_type": "markdown",
      "source": [
        "分かち書きを行う関数を作成しましょう"
      ]
    },
    {
      "metadata": {
        "id": "nY-kI6N_wOoV",
        "colab_type": "code",
        "colab": {}
      },
      "cell_type": "code",
      "source": [
        "def mas_ls(text):#mecabを使って分かち書き\n",
        "    m = MeCab.Tagger(\"-Owakati\")\n",
        "    return m.parse(text)[:-1]"
      ],
      "execution_count": 0,
      "outputs": []
    },
    {
      "metadata": {
        "id": "S2Kwk3XiwOoZ",
        "colab_type": "text"
      },
      "cell_type": "markdown",
      "source": [
        "今作成した関数を使ってみましょう\n",
        "結果を「変数result」として残しておきます"
      ]
    },
    {
      "metadata": {
        "id": "6lMuqL0AwOoZ",
        "colab_type": "code",
        "colab": {
          "base_uri": "https://localhost:8080/",
          "height": 54
        },
        "outputId": "eae3c8bc-8fb8-4008-eec1-45ddc01d9862"
      },
      "cell_type": "code",
      "source": [
        "str = \"NTTコミュニケーションズが2016年10月31日に提供を開始したAI（人工知能）サービス「Communication Engine “COTOHA™”」（以下「COTOHA」）は、NTTが40年以上にわたって蓄積・精錬してきた30万語におよぶ日本語データベースや処理技術を活用。日本語での書き言葉や話し言葉の高精度な分析・理解による、的確なコミュニケーションを実現しました。\"\n",
        "result = mas_ls(str)\n",
        "print (result)"
      ],
      "execution_count": 24,
      "outputs": [
        {
          "output_type": "stream",
          "text": [
            "NTT コミュニケーションズ が 2016 年 10 月 31 日 に 提供 を 開始 し た AI （ 人工 知能 ） サービス 「 Communication Engine “ COTOHA ™”」（ 以下 「 COTOHA 」 ） は 、 NTT が 40 年 以上 にわたって 蓄積 ・ 精錬 し て き た 30 万 語 に およぶ 日本語 データベース や 処理 技術 を 活用 。 日本語 で の 書き言葉 や 話し言葉 の 高 精度 な 分析 ・ 理解 による 、 的確 な コミュニケーション を 実現 し まし た 。 \n"
          ],
          "name": "stdout"
        }
      ]
    },
    {
      "metadata": {
        "id": "zWBBTXwNwOob",
        "colab_type": "text"
      },
      "cell_type": "markdown",
      "source": [
        "機械学習ライブラリsklearnのCountVectorizerを使って、単語の出現頻度を数えてみましょう"
      ]
    },
    {
      "metadata": {
        "id": "k6AgHLftwOoc",
        "colab_type": "code",
        "colab": {}
      },
      "cell_type": "code",
      "source": [
        "from sklearn.feature_extraction.text import CountVectorizer"
      ],
      "execution_count": 0,
      "outputs": []
    },
    {
      "metadata": {
        "id": "XPkNWJKOwOoe",
        "colab_type": "text"
      },
      "cell_type": "markdown",
      "source": [
        "どの単語について集計するか決めましょう（今回は手動で設定しますが、もちろん自動でもできます）"
      ]
    },
    {
      "metadata": {
        "id": "zae6AN7_wOof",
        "colab_type": "code",
        "colab": {}
      },
      "cell_type": "code",
      "source": [
        "corpus = [\"NTT\",\"コミュニケーションズ\",\"COTOHA\",\"日本語\",]\n",
        "vectorizer = CountVectorizer()\n",
        "X = vectorizer.fit_transform(corpus)\n",
        "features = vectorizer.get_feature_names()"
      ],
      "execution_count": 0,
      "outputs": []
    },
    {
      "metadata": {
        "id": "eiibv9bAwOoi",
        "colab_type": "text"
      },
      "cell_type": "markdown",
      "source": [
        "先ほど分かち書きした結果（変数result）を集計します"
      ]
    },
    {
      "metadata": {
        "id": "Xw9qrF_TwOoi",
        "colab_type": "code",
        "colab": {
          "base_uri": "https://localhost:8080/",
          "height": 51
        },
        "outputId": "b12fa7f3-fff6-4b41-ee09-31388bf3c5a4"
      },
      "cell_type": "code",
      "source": [
        "new_doc = [result]\n",
        "new_X = vectorizer.transform(new_doc)\n",
        "features = vectorizer.get_feature_names()\n",
        "print(features)\n",
        "print(new_X.toarray())"
      ],
      "execution_count": 27,
      "outputs": [
        {
          "output_type": "stream",
          "text": [
            "['cotoha', 'ntt', 'コミュニケーションズ', '日本語']\n",
            "[[2 2 1 2]]\n"
          ],
          "name": "stdout"
        }
      ]
    },
    {
      "metadata": {
        "id": "NjOHLeL4wOon",
        "colab_type": "text"
      },
      "cell_type": "markdown",
      "source": [
        "bag of wordsでは語順の情報が失われてしまいます"
      ]
    },
    {
      "metadata": {
        "id": "XuqJx3JLwOon",
        "colab_type": "code",
        "colab": {
          "base_uri": "https://localhost:8080/",
          "height": 51
        },
        "outputId": "fa5494fe-4a31-44b4-be1d-3a3cf6b0aada"
      },
      "cell_type": "code",
      "source": [
        "str = \"りんごは好きだが、ぶどうは嫌いだ\"\n",
        "result = mas_ls(str)\n",
        "corpus = [\"りんご\",\"みかん\",\"ぶどう\",\"好き\",\"嫌い\",\"普通\"]\n",
        "vectorizer = CountVectorizer()\n",
        "X = vectorizer.fit_transform(corpus)\n",
        "features = vectorizer.get_feature_names()\n",
        "new_doc = [result]\n",
        "new_X = vectorizer.transform(new_doc)\n",
        "features = vectorizer.get_feature_names()\n",
        "print(features)\n",
        "print(new_X.toarray())"
      ],
      "execution_count": 28,
      "outputs": [
        {
          "output_type": "stream",
          "text": [
            "['ぶどう', 'みかん', 'りんご', '好き', '嫌い', '普通']\n",
            "[[1 0 1 1 1 0]]\n"
          ],
          "name": "stdout"
        }
      ]
    },
    {
      "metadata": {
        "id": "c3ZY7PzfwOoq",
        "colab_type": "code",
        "colab": {
          "base_uri": "https://localhost:8080/",
          "height": 51
        },
        "outputId": "339fef39-fcee-4827-9e31-4dd6270490df"
      },
      "cell_type": "code",
      "source": [
        "str = \"ぶどうは好きだが、りんごは嫌いだ\"\n",
        "result = mas_ls(str)\n",
        "corpus = [\"りんご\",\"みかん\",\"ぶどう\",\"好き\",\"嫌い\",\"普通\"]\n",
        "vectorizer = CountVectorizer()\n",
        "X = vectorizer.fit_transform(corpus)\n",
        "features = vectorizer.get_feature_names()\n",
        "new_doc = [result]\n",
        "new_X = vectorizer.transform(new_doc)\n",
        "features = vectorizer.get_feature_names()\n",
        "print(features)\n",
        "print(new_X.toarray())"
      ],
      "execution_count": 29,
      "outputs": [
        {
          "output_type": "stream",
          "text": [
            "['ぶどう', 'みかん', 'りんご', '好き', '嫌い', '普通']\n",
            "[[1 0 1 1 1 0]]\n"
          ],
          "name": "stdout"
        }
      ]
    },
    {
      "metadata": {
        "id": "oyt_8voawOot",
        "colab_type": "text"
      },
      "cell_type": "markdown",
      "source": [
        "おまけ"
      ]
    },
    {
      "metadata": {
        "id": "OGieL7dnwOot",
        "colab_type": "code",
        "colab": {
          "base_uri": "https://localhost:8080/",
          "height": 38
        },
        "outputId": "aa0d53fa-fc35-4f73-c809-e55203d51f46"
      },
      "cell_type": "code",
      "source": [
        "%%html\n",
        "<marquee style='width: 30%; color: blue;'><b>htmlも書けるよ</b></marquee>"
      ],
      "execution_count": 30,
      "outputs": [
        {
          "output_type": "display_data",
          "data": {
            "text/html": [
              "<marquee style='width: 30%; color: blue;'><b>htmlも書けるよ</b></marquee>"
            ],
            "text/plain": [
              "<IPython.core.display.HTML object>"
            ]
          },
          "metadata": {
            "tags": []
          }
        }
      ]
    },
    {
      "metadata": {
        "id": "_DunsxHS_X56",
        "colab_type": "code",
        "colab": {
          "base_uri": "https://localhost:8080/",
          "height": 34
        },
        "outputId": "546b9861-e5c4-4606-9028-2cab16a5a85b"
      },
      "cell_type": "code",
      "source": [
        "%%bash\n",
        "pwd"
      ],
      "execution_count": 33,
      "outputs": [
        {
          "output_type": "stream",
          "text": [
            "/content\n"
          ],
          "name": "stdout"
        }
      ]
    },
    {
      "metadata": {
        "id": "kAx91VZY_JuQ",
        "colab_type": "code",
        "colab": {
          "base_uri": "https://localhost:8080/",
          "height": 34
        },
        "outputId": "763d0411-5eaa-41e1-dc9c-9022f1bc3fed"
      },
      "cell_type": "code",
      "source": [
        "!pwd"
      ],
      "execution_count": 32,
      "outputs": [
        {
          "output_type": "stream",
          "text": [
            "/content\n"
          ],
          "name": "stdout"
        }
      ]
    }
  ]
}