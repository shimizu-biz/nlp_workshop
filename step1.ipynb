{
  "nbformat": 4,
  "nbformat_minor": 0,
  "metadata": {
    "colab": {
      "name": "step1.ipynb",
      "version": "0.3.2",
      "provenance": []
    },
    "kernelspec": {
      "display_name": "Python 3",
      "language": "python",
      "name": "python3"
    }
  },
  "cells": [
    {
      "metadata": {
        "id": "NdeBykTvwOn_",
        "colab_type": "text"
      },
      "cell_type": "markdown",
      "source": [
        "# step1"
      ]
    },
    {
      "metadata": {
        "id": "uCYMvo7SwOoB",
        "colab_type": "text"
      },
      "cell_type": "markdown",
      "source": [
        "Jupyter Notebookはプログラミングを行うだけでなく、Linuxコマンドも打つことができます。\n",
        "Linuxコマンドを実行するには'%%bash'と行頭に書きます。まず、lsコマンドが動くことを確認しましょう。\n",
        "\"In [x]:\"となっているセルをクリックし、Ctrl+EnterもしくはRunボタンを押すことでセルのコードを実行できます。"
      ]
    },
    {
      "metadata": {
        "id": "S4E2lr7FwOoC",
        "colab_type": "code",
        "colab": {}
      },
      "cell_type": "code",
      "source": [
        "%%bash\n",
        "ls"
      ],
      "execution_count": 0,
      "outputs": []
    },
    {
      "metadata": {
        "id": "qnWsUI9FwOoF",
        "colab_type": "text"
      },
      "cell_type": "markdown",
      "source": [
        "Mecabをインストールしましょう"
      ]
    },
    {
      "metadata": {
        "id": "6Kr-YeHpwOoF",
        "colab_type": "code",
        "colab": {}
      },
      "cell_type": "code",
      "source": [
        "%%bash\n",
        "apt-get install mecab -y\n",
        "apt-get install libmecab-dev\n",
        "apt install mecab-ipadic-utf8 -y"
      ],
      "execution_count": 0,
      "outputs": []
    },
    {
      "metadata": {
        "id": "xlV3vShXwOoI",
        "colab_type": "text"
      },
      "cell_type": "markdown",
      "source": [
        "Mecabをコマンドから操作してみましょう"
      ]
    },
    {
      "metadata": {
        "id": "gv08X7TFwOoJ",
        "colab_type": "code",
        "colab": {}
      },
      "cell_type": "code",
      "source": [
        "%%bash\n",
        "mecab\n",
        "今日はいい天気ですね"
      ],
      "execution_count": 0,
      "outputs": []
    },
    {
      "metadata": {
        "id": "t0-gCNEOwOoL",
        "colab_type": "text"
      },
      "cell_type": "markdown",
      "source": [
        "好きな文章の形態素解析をしてみましょう。（書き換えて何度でも実行できます）"
      ]
    },
    {
      "metadata": {
        "id": "zu8AcGqswOoM",
        "colab_type": "text"
      },
      "cell_type": "markdown",
      "source": [
        "PythonでMeCabを使うためのライブラリをインストールしましょう"
      ]
    },
    {
      "metadata": {
        "id": "heJ4h_OiwOoM",
        "colab_type": "code",
        "colab": {}
      },
      "cell_type": "code",
      "source": [
        "%%bash\n",
        "apt-get install python3-pip -y\n",
        "pip3 install mecab-python3"
      ],
      "execution_count": 0,
      "outputs": []
    },
    {
      "metadata": {
        "id": "VxnRSReOwOoQ",
        "colab_type": "text"
      },
      "cell_type": "markdown",
      "source": [
        "ここからはPythonを使っていきましょう\n",
        "\n",
        "Jupyter Notebookは対話的にPythonのプログラミングができます。\n",
        "「%%」などは特につける必要がありません"
      ]
    },
    {
      "metadata": {
        "id": "2cVhHXeZwOoR",
        "colab_type": "text"
      },
      "cell_type": "markdown",
      "source": [
        "MeCabのインポートをしましょう"
      ]
    },
    {
      "metadata": {
        "id": "hxyxb7XrwOoS",
        "colab_type": "code",
        "colab": {}
      },
      "cell_type": "code",
      "source": [
        "import MeCab"
      ],
      "execution_count": 0,
      "outputs": []
    },
    {
      "metadata": {
        "id": "5fBE4PwYwOoU",
        "colab_type": "text"
      },
      "cell_type": "markdown",
      "source": [
        "分かち書きを行う関数を作成しましょう"
      ]
    },
    {
      "metadata": {
        "id": "nY-kI6N_wOoV",
        "colab_type": "code",
        "colab": {}
      },
      "cell_type": "code",
      "source": [
        "def mas_ls(text):#mecabを使って分かち書き\n",
        "    m = MeCab.Tagger(\"-Owakati\")\n",
        "    return m.parse(text)[:-1]"
      ],
      "execution_count": 0,
      "outputs": []
    },
    {
      "metadata": {
        "id": "S2Kwk3XiwOoZ",
        "colab_type": "text"
      },
      "cell_type": "markdown",
      "source": [
        "今作成した関数を使ってみましょう\n",
        "結果を「変数result」として残しておきます"
      ]
    },
    {
      "metadata": {
        "id": "6lMuqL0AwOoZ",
        "colab_type": "code",
        "colab": {}
      },
      "cell_type": "code",
      "source": [
        "str = \"NTTコミュニケーションズが2016年10月31日に提供を開始したAI（人工知能）サービス「Communication Engine “COTOHA™”」（以下「COTOHA」）は、NTTが40年以上にわたって蓄積・精錬してきた30万語におよぶ日本語データベースや処理技術を活用。日本語での書き言葉や話し言葉の高精度な分析・理解による、的確なコミュニケーションを実現しました。\"\n",
        "result = mas_ls(str)\n",
        "print (result)"
      ],
      "execution_count": 0,
      "outputs": []
    },
    {
      "metadata": {
        "id": "zWBBTXwNwOob",
        "colab_type": "text"
      },
      "cell_type": "markdown",
      "source": [
        "機械学習ライブラリsklearnのCountVectorizerを使って、単語の出現頻度を数えてみましょう"
      ]
    },
    {
      "metadata": {
        "id": "k6AgHLftwOoc",
        "colab_type": "code",
        "colab": {}
      },
      "cell_type": "code",
      "source": [
        "from sklearn.feature_extraction.text import CountVectorizer"
      ],
      "execution_count": 0,
      "outputs": []
    },
    {
      "metadata": {
        "id": "XPkNWJKOwOoe",
        "colab_type": "text"
      },
      "cell_type": "markdown",
      "source": [
        "どの単語について集計するか決めましょう（今回は手動で設定しますが、もちろん自動でもできます）"
      ]
    },
    {
      "metadata": {
        "id": "zae6AN7_wOof",
        "colab_type": "code",
        "colab": {}
      },
      "cell_type": "code",
      "source": [
        "corpus = [\"NTT\",\"コミュニケーションズ\",\"COTOHA\",\"日本語\",]\n",
        "vectorizer = CountVectorizer()\n",
        "X = vectorizer.fit_transform(corpus)\n",
        "features = vectorizer.get_feature_names()"
      ],
      "execution_count": 0,
      "outputs": []
    },
    {
      "metadata": {
        "id": "eiibv9bAwOoi",
        "colab_type": "text"
      },
      "cell_type": "markdown",
      "source": [
        "先ほど分かち書きした結果（変数result）を集計します"
      ]
    },
    {
      "metadata": {
        "id": "Xw9qrF_TwOoi",
        "colab_type": "code",
        "colab": {}
      },
      "cell_type": "code",
      "source": [
        "new_doc = [result]\n",
        "new_X = vectorizer.transform(new_doc)\n",
        "features = vectorizer.get_feature_names()\n",
        "print(features)\n",
        "print(new_X.toarray())"
      ],
      "execution_count": 0,
      "outputs": []
    },
    {
      "metadata": {
        "id": "NjOHLeL4wOon",
        "colab_type": "text"
      },
      "cell_type": "markdown",
      "source": [
        "bag of wordsでは語順の情報が失われてしまいます"
      ]
    },
    {
      "metadata": {
        "id": "XuqJx3JLwOon",
        "colab_type": "code",
        "colab": {}
      },
      "cell_type": "code",
      "source": [
        "str = \"りんごは好きだが、ぶどうは嫌いだ\"\n",
        "result = mas_ls(str)\n",
        "corpus = [\"りんご\",\"みかん\",\"ぶどう\",\"好き\",\"嫌い\",\"普通\"]\n",
        "vectorizer = CountVectorizer()\n",
        "X = vectorizer.fit_transform(corpus)\n",
        "features = vectorizer.get_feature_names()\n",
        "new_doc = [result]\n",
        "new_X = vectorizer.transform(new_doc)\n",
        "features = vectorizer.get_feature_names()\n",
        "print(features)\n",
        "print(new_X.toarray())"
      ],
      "execution_count": 0,
      "outputs": []
    },
    {
      "metadata": {
        "id": "c3ZY7PzfwOoq",
        "colab_type": "code",
        "colab": {}
      },
      "cell_type": "code",
      "source": [
        "str = \"ぶどうは好きだが、りんごは嫌いだ\"\n",
        "result = mas_ls(str)\n",
        "corpus = [\"りんご\",\"みかん\",\"ぶどう\",\"好き\",\"嫌い\",\"普通\"]\n",
        "vectorizer = CountVectorizer()\n",
        "X = vectorizer.fit_transform(corpus)\n",
        "features = vectorizer.get_feature_names()\n",
        "new_doc = [result]\n",
        "new_X = vectorizer.transform(new_doc)\n",
        "features = vectorizer.get_feature_names()\n",
        "print(features)\n",
        "print(new_X.toarray())"
      ],
      "execution_count": 0,
      "outputs": []
    },
    {
      "metadata": {
        "id": "oyt_8voawOot",
        "colab_type": "text"
      },
      "cell_type": "markdown",
      "source": [
        "おまけ"
      ]
    },
    {
      "metadata": {
        "id": "OGieL7dnwOot",
        "colab_type": "code",
        "colab": {}
      },
      "cell_type": "code",
      "source": [
        "%%html\n",
        "<marquee style='width: 30%; color: blue;'><b>htmlも書けるよ</b></marquee>"
      ],
      "execution_count": 0,
      "outputs": []
    },
    {
      "metadata": {
        "id": "fledM41Z3DhD",
        "colab_type": "code",
        "colab": {}
      },
      "cell_type": "code",
      "source": [
        ""
      ],
      "execution_count": 0,
      "outputs": []
    },
    {
      "metadata": {
        "id": "RjS1UxEg3D3j",
        "colab_type": "code",
        "colab": {}
      },
      "cell_type": "code",
      "source": [
        ""
      ],
      "execution_count": 0,
      "outputs": []
    }
  ]
}