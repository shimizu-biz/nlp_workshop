{
  "nbformat": 4,
  "nbformat_minor": 0,
  "metadata": {
    "colab": {
      "name": "step2.ipynb",
      "version": "0.3.2",
      "provenance": [],
      "include_colab_link": true
    },
    "kernelspec": {
      "display_name": "Python 3",
      "language": "python",
      "name": "python3"
    }
  },
  "cells": [
    {
      "cell_type": "markdown",
      "metadata": {
        "id": "view-in-github",
        "colab_type": "text"
      },
      "source": [
        "[![Open In Colab](https://colab.research.google.com/assets/colab-badge.svg)](https://colab.research.google.com/github/shimizu-biz/nlp_workshop/blob/master/step2.ipynb)"
      ]
    },
    {
      "metadata": {
        "id": "xmEgwIXYxo2r",
        "colab_type": "text"
      },
      "cell_type": "markdown",
      "source": [
        "# step 2"
      ]
    },
    {
      "metadata": {
        "id": "RymLEFUZ9yYP",
        "colab_type": "text"
      },
      "cell_type": "markdown",
      "source": [
        "不要な警告を非表示にする"
      ]
    },
    {
      "metadata": {
        "id": "V2-MwWJaxo2s",
        "colab_type": "code",
        "colab": {}
      },
      "cell_type": "code",
      "source": [
        "import warnings\n",
        "warnings.filterwarnings('ignore')"
      ],
      "execution_count": 0,
      "outputs": []
    },
    {
      "metadata": {
        "id": "HXpla8iaxo2v",
        "colab_type": "text"
      },
      "cell_type": "markdown",
      "source": [
        "gensimのインストールを行いましょう\n",
        "gensimは自然言語処理のためにしばしば使われる（ベクトル空間モデル、トピックモデル）ライブラリです"
      ]
    },
    {
      "metadata": {
        "id": "5ZhI4T6Lxt2_",
        "colab_type": "code",
        "colab": {}
      },
      "cell_type": "code",
      "source": [
        "%%bash\n",
        "pip3 install gensim"
      ],
      "execution_count": 0,
      "outputs": []
    },
    {
      "metadata": {
        "id": "-wNkilwH-WaS",
        "colab_type": "text"
      },
      "cell_type": "markdown",
      "source": [
        "gensimのインポート"
      ]
    },
    {
      "metadata": {
        "id": "9NvlRuISxo2w",
        "colab_type": "code",
        "colab": {}
      },
      "cell_type": "code",
      "source": [
        "import gensim\n",
        "from gensim.models import word2vec"
      ],
      "execution_count": 0,
      "outputs": []
    },
    {
      "metadata": {
        "id": "Chigbj2Mxo2y",
        "colab_type": "text"
      },
      "cell_type": "markdown",
      "source": [
        "本来は学習のプロセスも体験していただきたいのですが、学習にはかなり時間がかかるので、有志の方の学習済みもモデルを使わせてもらいます"
      ]
    },
    {
      "metadata": {
        "id": "vn0u3Qt4yF3i",
        "colab_type": "code",
        "colab": {}
      },
      "cell_type": "code",
      "source": [
        "%%bash\n",
        "curl -L -o pretrained_model.bin.zip  \"http://public.shiroyagi.s3.amazonaws.com/latest-ja-word2vec-gensim-model.zip\"\n",
        "unzip pretrained_model.bin.zip"
      ],
      "execution_count": 0,
      "outputs": []
    },
    {
      "metadata": {
        "id": "u9nzVhEz-fiQ",
        "colab_type": "text"
      },
      "cell_type": "markdown",
      "source": [
        "モデルのロード"
      ]
    },
    {
      "metadata": {
        "id": "uJlYtmItxo2y",
        "colab_type": "code",
        "colab": {}
      },
      "cell_type": "code",
      "source": [
        "model = word2vec.Word2Vec.load('word2vec.gensim.model')"
      ],
      "execution_count": 0,
      "outputs": []
    },
    {
      "metadata": {
        "id": "qZ3Ij3rGxo20",
        "colab_type": "text"
      },
      "cell_type": "markdown",
      "source": [
        "語彙数の確認しましょう"
      ]
    },
    {
      "metadata": {
        "id": "kfhwg99Fxo21",
        "colab_type": "code",
        "colab": {}
      },
      "cell_type": "code",
      "source": [
        "len(model.wv.vocab)"
      ],
      "execution_count": 0,
      "outputs": []
    },
    {
      "metadata": {
        "id": "gjOzXjHpxo23",
        "colab_type": "text"
      },
      "cell_type": "markdown",
      "source": [
        "語彙（一部）を表示しましょう"
      ]
    },
    {
      "metadata": {
        "id": "8c3dIFtoxo24",
        "colab_type": "code",
        "colab": {}
      },
      "cell_type": "code",
      "source": [
        "model.wv.vocab"
      ],
      "execution_count": 0,
      "outputs": []
    },
    {
      "metadata": {
        "id": "VCZlhidPxo28",
        "colab_type": "text"
      },
      "cell_type": "markdown",
      "source": [
        "東京にどのようなベクトルが割り当てられているか確認しましょう"
      ]
    },
    {
      "metadata": {
        "scrolled": true,
        "id": "vNaNSd1Jxo29",
        "colab_type": "code",
        "colab": {}
      },
      "cell_type": "code",
      "source": [
        "model.wv['東京']"
      ],
      "execution_count": 0,
      "outputs": []
    },
    {
      "metadata": {
        "id": "4Dzlm-0qxo2_",
        "colab_type": "text"
      },
      "cell_type": "markdown",
      "source": [
        "コサイン類似度に基づいて、語彙の中で最も「東京」に近い単語を表示しましょう"
      ]
    },
    {
      "metadata": {
        "id": "xsbEDV8Cxo3A",
        "colab_type": "code",
        "colab": {}
      },
      "cell_type": "code",
      "source": [
        "model.wv.most_similar(positive=[\"東京\"], topn=1)"
      ],
      "execution_count": 0,
      "outputs": []
    },
    {
      "metadata": {
        "id": "3glcN2mmxo3C",
        "colab_type": "text"
      },
      "cell_type": "markdown",
      "source": [
        "Question:「大きい」に最も近い単語は何でしょうか？\n",
        "\n",
        "1. 大きな\n",
        "2. 大\n",
        "3. 大きさ\n",
        "3. 小さい"
      ]
    },
    {
      "metadata": {
        "id": "F2WwPkn-xo3C",
        "colab_type": "code",
        "colab": {}
      },
      "cell_type": "code",
      "source": [
        "model.wv.most_similar(positive=[\"大きい\"], topn=1)"
      ],
      "execution_count": 0,
      "outputs": []
    },
    {
      "metadata": {
        "id": "FQWvqUKdxo3G",
        "colab_type": "text"
      },
      "cell_type": "markdown",
      "source": [
        "他の候補はどうだったのでしょうか？"
      ]
    },
    {
      "metadata": {
        "id": "PGncDfJgxo3H",
        "colab_type": "code",
        "colab": {}
      },
      "cell_type": "code",
      "source": [
        "print (model.wv.similarity('大きい','大きな'))\n",
        "print (model.wv.similarity('大きい','大'))\n",
        "print (model.wv.similarity('大きい','大きな'))\n",
        "print (model.wv.similarity('大きい','小さい'))"
      ],
      "execution_count": 0,
      "outputs": []
    },
    {
      "metadata": {
        "id": "fdEGwb13xo3K",
        "colab_type": "text"
      },
      "cell_type": "markdown",
      "source": [
        "ベクトルなので足し算・引き算ができます。\n",
        "日本にとっての東京は、アメリカにとっての何でしょうか？"
      ]
    },
    {
      "metadata": {
        "id": "fQZi-Bu8xo3L",
        "colab_type": "code",
        "colab": {}
      },
      "cell_type": "code",
      "source": [
        "vector = model.wv['東京'] - model.wv['日本'] + model.wv['アメリカ']\n",
        "model.wv.similar_by_vector(vector, topn=1, restrict_vocab=None)"
      ],
      "execution_count": 0,
      "outputs": []
    },
    {
      "metadata": {
        "id": "-TgaA3zfxo3N",
        "colab_type": "text"
      },
      "cell_type": "markdown",
      "source": [
        "文のベクトルを表現する簡単な方法の一つとして、単語のベクトルの和を考えることができます。\n",
        "これにより、文同士のコサイン類似度を計算することもできます。"
      ]
    },
    {
      "metadata": {
        "id": "cDDKpWp9xo3O",
        "colab_type": "code",
        "colab": {}
      },
      "cell_type": "code",
      "source": [
        "import MeCab\n",
        "import numpy as np\n",
        "from sklearn.metrics.pairwise import cosine_similarity\n",
        "def mas_ls(text):#mecabを使って分かち書き\n",
        "    m = MeCab.Tagger(\"-Owakati\")\n",
        "    return m.parse(text)[:-1]\n",
        "def word_vector_sum(ls):#単語ベクトルの和を計算\n",
        "    vec = np.zeros(model.wv.vector_size)\n",
        "    for word in ls:\n",
        "        try:\n",
        "            vec += model.wv[word]\n",
        "        except:\n",
        "            pass\n",
        "    return vec\n",
        "def calc_sim(s1,s2):\n",
        "    v1 = word_vector_sum(mas_ls(s1))\n",
        "    v2 = word_vector_sum(mas_ls(s2))\n",
        "    return cosine_similarity(v1.reshape(1,-1),v2.reshape(1,-1))#ベクトルのコサイン類似度を計算"
      ],
      "execution_count": 0,
      "outputs": []
    },
    {
      "metadata": {
        "id": "OMAtEgctxo3R",
        "colab_type": "text"
      },
      "cell_type": "markdown",
      "source": [
        "文のペアが二つあります。どちらのペアが似ている組み合わせだと思いますか。"
      ]
    },
    {
      "metadata": {
        "id": "onn03B7Oxo3R",
        "colab_type": "code",
        "colab": {}
      },
      "cell_type": "code",
      "source": [
        "s1 = \"今日は晴れだ\"\n",
        "s2 = \"本日は快晴だ\"\n",
        "print (calc_sim(s1,s2))\n",
        "\n",
        "s1 = \"今日は晴れだ\"\n",
        "s2 = \"好きな２文を入れてみましょう\"\n",
        "print (calc_sim(s1,s2))"
      ],
      "execution_count": 0,
      "outputs": []
    },
    {
      "metadata": {
        "id": "sxeLwnWCxo3U",
        "colab_type": "text"
      },
      "cell_type": "markdown",
      "source": [
        "この方法も、語順の情報が失われてしまいます"
      ]
    },
    {
      "metadata": {
        "id": "djx-DAm1xo3U",
        "colab_type": "code",
        "colab": {}
      },
      "cell_type": "code",
      "source": [
        "s1 = \"りんごは好きだが、ぶどうは嫌いだ\"\n",
        "s2 = \"ぶどうは好きだが、りんごは嫌いだ\"\n",
        "print (calc_sim(s1,s2))"
      ],
      "execution_count": 0,
      "outputs": []
    }
  ]
}